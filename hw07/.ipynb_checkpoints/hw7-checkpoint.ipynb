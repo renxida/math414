{
 "cells": [
  {
   "cell_type": "markdown",
   "metadata": {},
   "source": [
    "# The math"
   ]
  },
  {
   "cell_type": "markdown",
   "metadata": {},
   "source": [
    "The discretized form of the differential equation is:\n",
    "$$\n",
    "\\frac{w_{i-1} -2w_i + w_{i+1}}{h^2} - \\sin(\\frac{w_{i+1} - w_{i-1}}{2})\n",
    "$$"
   ]
  },
  {
   "cell_type": "markdown",
   "metadata": {},
   "source": [
    "And we want $w_1\\ldots w_n$ such that for each $i$ from $1$ to $n$ we have \n",
    "$$\n",
    "\\frac{w_{i-1} -2w_i + w_{i+1}}{h^2} - \\sin(\\frac{w_{i+1} - w_{i-1}}{2}) = 0\n",
    "$$"
   ]
  },
  {
   "cell_type": "markdown",
   "metadata": {},
   "source": [
    "i.e.\n",
    "$$\n",
    "w_{i-1} -2w_i + w_{i+1} - h^2\\sin(\\frac{w_{i+1} - w_{i-1}}{2}) = 0\n",
    "$$"
   ]
  },
  {
   "cell_type": "markdown",
   "metadata": {},
   "source": [
    "We can frame this in terms of finding a zero for a vector-to-vector function $f(\\mathbf{w})$ for which we want to find a $\\mathbf{w}$ such that $f(\\mathbf{w})=0$, and use the jacobian with the newton method to find an approximate solution."
   ]
  },
  {
   "cell_type": "markdown",
   "metadata": {},
   "source": [
    "The $i$th output of $f(\\mathbf{w})$ is $w_{i-1} -2w_i + w_{i+1} - h^2\\sin(\\frac{w_{i+1} - w_{i-1}}{2})$. For $i=1$, $w_{i-1} = y_a$ and for $i=n$, $w_{i+1}=y_b$. "
   ]
  },
  {
   "cell_type": "markdown",
   "metadata": {},
   "source": [
    "To do the jacobian $Df(\\mathbf{w}), we differentiate \n",
    "\n",
    "$$\n",
    "w_{i-1} -2w_i + w_{i+1} - h^2\\sin(\\frac{w_{i+1} - w_{i-1}}{2}) = 0\n",
    "$$\n",
    "\n",
    "with respect to $w_{i-1}$, $w_{i}$, and $w_{i+1}$."
   ]
  },
  {
   "cell_type": "markdown",
   "metadata": {},
   "source": [
    "$\\frac{df(w)_{i}}{dw_{i-1}} = 1 + h^2\\frac{1}{2}\\sin(w_{i+1}-w_{i-1})$"
   ]
  },
  {
   "cell_type": "markdown",
   "metadata": {},
   "source": [
    "$\\frac{df(w)_{i}}{dw_{i}} = -2$"
   ]
  },
  {
   "cell_type": "markdown",
   "metadata": {},
   "source": [
    "$\\frac{df(w)_{i}}{dw_{i+1}} = 1 - h^2\\frac{1}{2}\\sin(w_{i+1}-w_{i-1})$"
   ]
  },
  {
   "cell_type": "markdown",
   "metadata": {},
   "source": [
    "And\n",
    "$J_{i,j} = df(w)_i/dw_j$"
   ]
  },
  {
   "cell_type": "markdown",
   "metadata": {},
   "source": [
    "This gives us enough to assemble the functions $f$ and $jac$:"
   ]
  },
  {
   "cell_type": "markdown",
   "metadata": {},
   "source": [
    "# The program"
   ]
  },
  {
   "cell_type": "code",
   "execution_count": 13,
   "metadata": {},
   "outputs": [
    {
     "name": "stdout",
     "output_type": "stream",
     "text": [
      "Created file '/home/xren/Dropbox/numan/hw07/f.m'.\n"
     ]
    }
   ],
   "source": [
    "%%file f.m\n",
    "%Homework 07\n",
    "function y=f(w,inter,bv,n)\n",
    "y=zeros(n,1);\n",
    "h=(inter(2)-inter(1))/(n+1);\n",
    "\n",
    "i=1;\n",
    "y(i)=bv(1) - 2*w(i) + w(i+1) - h*h*sin( (w(i+1)-bv(1)) / 2 );\n",
    "\n",
    "for i=2:n-1\n",
    "y(i)=w(i-1) - 2*w(i) + w(i+1) - h*h*sin( (w(i+1)-w(i-1)) / 2 );\n",
    "end\n",
    "\n",
    "i=n;\n",
    "y(i)=w(i-1) - 2*w(i) + bv(2) - h*h*sin( (bv(2)-w(i-1)) / 2 );"
   ]
  },
  {
   "cell_type": "code",
   "execution_count": 22,
   "metadata": {},
   "outputs": [
    {
     "name": "stdout",
     "output_type": "stream",
     "text": [
      "Created file '/home/xren/Dropbox/numan/hw07/jac.m'.\n"
     ]
    }
   ],
   "source": [
    "%%file jac.m\n",
    "%Homework 07\n",
    "function a=jac(w,inter,bv,n)\n",
    "a=zeros(n,n);h=(inter(2)-inter(1))/(n+1);\n",
    "for j=1:n\n",
    "a(j,j)=-2;\n",
    "end;\n",
    "\n",
    "ww = [bv(1); w; bv(2)];%shifted w\n",
    "\n",
    "for j=1:n-1\n",
    "a(j+1,j)=1+h*h/2*cos(ww(j+2)-ww(j));\n",
    "end\n",
    "for j=2:n\n",
    "a(j-1,j)=1-h*h/2*cos(ww(j+2)-ww(j));\n",
    "end\n",
    "%"
   ]
  },
  {
   "cell_type": "code",
   "execution_count": 23,
   "metadata": {},
   "outputs": [
    {
     "name": "stdout",
     "output_type": "stream",
     "text": [
      "Created file '/home/xren/Dropbox/numan/hw07/nlbvpfd.m'.\n"
     ]
    }
   ],
   "source": [
    "%%file nlbvpfd.m\n",
    "% Program 7.1 Nonlinear Finite Difference Method for BVP\n",
    "% Uses Multivariate Newtonâ€™s Method to solve nonlinear equation\n",
    "% Inputs: interval inter, boundary values bv, number of steps n\n",
    "% Output: solution w\n",
    "% Example usage: w=nlbvpfd([0 1],[1 4],40)\n",
    "% Example usage: w=nlbvpfd([0 pi],[0 1],40)\n",
    "function w=nlbvpfd(inter,bv,n);\n",
    "a=inter(1); b=inter(2); ya=bv(1); yb=bv(2);\n",
    "h=(b-a)/(n+1); % h is step size\n",
    "w=zeros(n,1); % initialize solution array w\n",
    "for i=1:20 % loop of Newton step\n",
    "w=w-jac(w,inter,bv,n)\\f(w,inter,bv,n);\n",
    "end\n",
    "plot([a a+(1:n)*h b],[ya w' yb]); % plot w with boundary data\n",
    "%Example 7.9\n",
    "%function y=f(w,inter,bv,n)\n",
    "%y=zeros(n,1);h=(inter(2)-inter(1))/(n+1);\n",
    "%y(1)=bv(1)-(2+h^2)*w(1)+h^2*w(1)^2+w(2);\n",
    "%y(n)=w(n-1)-(2+h^2)*w(n)+h^2*w(n)^2+bv(2);\n",
    "%for i=2:n-1\n",
    "%y(i)=w(i-1)-(2+h^2)*w(i)+h^2*w(i)^2+w(i+1);\n",
    "%end\n",
    "%function a=jac(w,inter,bv,n)\n",
    "%a=zeros(n,n);h=(inter(2)-inter(1))/(n+1);\n",
    "%for i=1:n\n",
    "%a(i,i)=2*h^2*w(i)-2-h^2;\n",
    "%end\n",
    "%for i=1:n-1\n",
    "%a(i,i+1)=1;\n",
    "%a(i+1,i)=1;\n",
    "%end"
   ]
  },
  {
   "cell_type": "code",
   "execution_count": 24,
   "metadata": {},
   "outputs": [
    {
     "name": "stdout",
     "output_type": "stream",
     "text": [
      "\n",
      "w =\n",
      "\n",
      "    0.9612\n",
      "    0.9223\n",
      "    0.8834\n",
      "    0.8446\n",
      "    0.8057\n",
      "    0.7667\n",
      "    0.7278\n",
      "    0.6889\n",
      "    0.6499\n",
      "    0.6109\n",
      "    0.5719\n",
      "    0.5329\n",
      "    0.4939\n",
      "    0.4549\n",
      "    0.4158\n",
      "    0.3768\n",
      "    0.3377\n",
      "    0.2986\n",
      "    0.2595\n",
      "    0.2204\n",
      "    0.1812\n",
      "    0.1421\n",
      "    0.1029\n",
      "    0.0637\n",
      "    0.0245\n",
      "   -0.0147\n",
      "   -0.0539\n",
      "   -0.0932\n",
      "   -0.1324\n",
      "   -0.1717\n",
      "   -0.2110\n",
      "   -0.2503\n",
      "   -0.2896\n",
      "   -0.3290\n",
      "   -0.3683\n",
      "   -0.4077\n",
      "   -0.4471\n",
      "   -0.4865\n",
      "   -0.5259\n",
      "   -0.5653\n",
      "   -0.6047\n",
      "   -0.6442\n",
      "   -0.6837\n",
      "   -0.7232\n",
      "   -0.7627\n",
      "   -0.8022\n",
      "   -0.8417\n",
      "   -0.8813\n",
      "   -0.9208\n",
      "   -0.9604\n",
      "\n"
     ]
    },
    {
     "data": {
      "image/png": "[encoded data removed]",
      "text/plain": [
       "<IPython.core.display.Image object>"
      ]
     },
     "metadata": {},
     "output_type": "display_data"
    }
   ],
   "source": [
    "w=nlbvpfd([0 1],[1 -1],50)"
   ]
  }
 ],
 "metadata": {
  "hide_input": false,
  "kernelspec": {
   "display_name": "Matlab",
   "language": "matlab",
   "name": "matlab"
  },
  "language_info": {
   "codemirror_mode": "octave",
   "file_extension": ".m",
   "help_links": [
    {
     "text": "MetaKernel Magics",
     "url": "https://github.com/calysto/metakernel/blob/master/metakernel/magics/README.md"
    }
   ],
   "mimetype": "text/x-octave",
   "name": "matlab",
   "version": "0.16.1"
  }
 },
 "nbformat": 4,
 "nbformat_minor": 2
}
