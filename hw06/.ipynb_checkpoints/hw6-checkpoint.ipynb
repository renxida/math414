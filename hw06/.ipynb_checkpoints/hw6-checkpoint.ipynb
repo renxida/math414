{
 "cells": [
  {
   "cell_type": "markdown",
   "metadata": {},
   "source": [
    "Numerical Analysis \n",
    "HW6  \n",
    "by Xida ren"
   ]
  },
  {
   "cell_type": "code",
   "execution_count": 11,
   "metadata": {},
   "outputs": [
    {
     "name": "stdout",
     "output_type": "stream",
     "text": [
      "Created file '/home/xren/Dropbox/numan/hw06/F.m'.\n"
     ]
    }
   ],
   "source": [
    "%%file F.m\n",
    "function z=F(s, doplt)\n",
    "%  (a,b) is the time interval\n",
    "%   yb is the desired BC at the far end t=b\n",
    "a=1;b=2;yb=1/12;\n",
    "%\n",
    "ydot=@(t,y) [y(2);18*(y(1))^2];\n",
    "% [t,y]=ode45(ydot,[a,b],[ya,s]);\n",
    "[t,y]=ode45(ydot,[a,b],[1/3,s]);\n",
    "if exist('doplt', 'var')\n",
    "plot(t, y(:,1))\n",
    "end\n",
    "z=y(end,1)-yb; % end means last entry of solution y\n",
    "end\n",
    "%"
   ]
  },
  {
   "cell_type": "code",
   "execution_count": 12,
   "metadata": {},
   "outputs": [
    {
     "name": "stdout",
     "output_type": "stream",
     "text": [
      "Created file '/home/xren/Dropbox/numan/hw06/G.m'.\n"
     ]
    }
   ],
   "source": [
    "%%file G.m\n",
    "function z=G(s, doplt)\n",
    "%  (a,b) is the time interval\n",
    "%   yb is the desired BC at the far end t=b\n",
    "a=0;b=1;yb=log(2);\n",
    "%\n",
    "ydot=@(t,y) [y(2);2*exp(2*y(1)^2)*(1-t*t)];\n",
    "% [t,y]=ode45(ydot,[a,b],[ya,s]);\n",
    "[t,y]=ode45(ydot,[a,b],[0,s]);\n",
    "if exist('doplt', 'var')\n",
    "plot(t, y(:,1))\n",
    "end\n",
    "z=y(end,1)-yb; % end means last entry of solution y\n",
    "end\n",
    "%"
   ]
  },
  {
   "cell_type": "code",
   "execution_count": 13,
   "metadata": {},
   "outputs": [
    {
     "name": "stdout",
     "output_type": "stream",
     "text": [
      "\n",
      "ans =\n",
      "\n",
      "    0.2095\n",
      "\n"
     ]
    }
   ],
   "source": [
    "G(0)"
   ]
  },
  {
   "cell_type": "code",
   "execution_count": 14,
   "metadata": {},
   "outputs": [
    {
     "name": "stdout",
     "output_type": "stream",
     "text": [
      "Warning: Failure at t=1.937888e+00.  Unable to meet integration tolerances without reducing the step size below the smallest value allowed (3.552714e-15) at time t.\n",
      "> In ode45 (line 360)\n",
      "  In F (line 8)\n",
      "\n",
      "ans =\n",
      "\n",
      "   5.4715e+27\n",
      "\n"
     ]
    }
   ],
   "source": [
    "F(1)"
   ]
  },
  {
   "cell_type": "code",
   "execution_count": 15,
   "metadata": {},
   "outputs": [
    {
     "name": "stdout",
     "output_type": "stream",
     "text": [
      "\n",
      "ans =\n",
      "\n",
      "   -0.4334\n",
      "\n"
     ]
    }
   ],
   "source": [
    "F(-1)"
   ]
  },
  {
   "cell_type": "code",
   "execution_count": 20,
   "metadata": {},
   "outputs": [
    {
     "name": "stdout",
     "output_type": "stream",
     "text": [
      "\n",
      "ans =\n",
      "\n",
      "    7.1725\n",
      "\n"
     ]
    }
   ],
   "source": [
    "F(-0)"
   ]
  },
  {
   "cell_type": "code",
   "execution_count": null,
   "metadata": {},
   "outputs": [],
   "source": []
  },
  {
   "cell_type": "code",
   "execution_count": 21,
   "metadata": {},
   "outputs": [
    {
     "name": "stdout",
     "output_type": "stream",
     "text": [
      "\n",
      "ans =\n",
      "\n",
      "    0.2095\n",
      "\n"
     ]
    }
   ],
   "source": [
    "G(0)"
   ]
  },
  {
   "cell_type": "code",
   "execution_count": 22,
   "metadata": {},
   "outputs": [
    {
     "name": "stdout",
     "output_type": "stream",
     "text": [
      "\n",
      "ans =\n",
      "\n",
      "    1.5342\n",
      "\n"
     ]
    }
   ],
   "source": [
    "G(0.5)"
   ]
  },
  {
   "cell_type": "code",
   "execution_count": 24,
   "metadata": {},
   "outputs": [
    {
     "name": "stdout",
     "output_type": "stream",
     "text": [
      "\n",
      "ans =\n",
      "\n",
      "   -0.3545\n",
      "\n"
     ]
    }
   ],
   "source": [
    "G(-0.5)"
   ]
  },
  {
   "cell_type": "code",
   "execution_count": 23,
   "metadata": {},
   "outputs": [
    {
     "name": "stdout",
     "output_type": "stream",
     "text": [
      "Warning: Failure at t=7.616324e-01.  Unable to meet integration tolerances without reducing the step size below the smallest value allowed (1.776357e-15) at time t.\n",
      "> In ode45 (line 360)\n",
      "  In G (line 8)\n",
      "\n",
      "ans =\n",
      "\n",
      "    5.0198\n",
      "\n"
     ]
    }
   ],
   "source": [
    "G(1)"
   ]
  },
  {
   "cell_type": "code",
   "execution_count": 25,
   "metadata": {},
   "outputs": [
    {
     "name": "stdout",
     "output_type": "stream",
     "text": [
      "\n",
      "sF =\n",
      "\n",
      "   -0.6667\n",
      "\n"
     ]
    }
   ],
   "source": [
    "sF=fzero(@F,[-1,0.0])"
   ]
  },
  {
   "cell_type": "code",
   "execution_count": 26,
   "metadata": {},
   "outputs": [
    {
     "name": "stdout",
     "output_type": "stream",
     "text": [
      "\n",
      "sG =\n",
      "\n",
      "   -0.1701\n",
      "\n"
     ]
    }
   ],
   "source": [
    "sG=fzero(@G,[-0.5,0])"
   ]
  },
  {
   "cell_type": "code",
   "execution_count": 27,
   "metadata": {},
   "outputs": [
    {
     "name": "stdout",
     "output_type": "stream",
     "text": [
      "\n",
      "ans =\n",
      "\n",
      "  -2.9143e-16\n",
      "\n"
     ]
    },
    {
     "data": {
      "image/png": "[encoded data removed]",
      "text/plain": [
       "<IPython.core.display.Image object>"
      ]
     },
     "metadata": {},
     "output_type": "display_data"
    }
   ],
   "source": [
    "F(sF, true)"
   ]
  },
  {
   "cell_type": "code",
   "execution_count": 28,
   "metadata": {},
   "outputs": [
    {
     "name": "stdout",
     "output_type": "stream",
     "text": [
      "\n",
      "ans =\n",
      "\n",
      "  -2.2204e-16\n",
      "\n"
     ]
    },
    {
     "data": {
      "image/png": "[encoded data removed]",
      "text/plain": [
       "<IPython.core.display.Image object>"
      ]
     },
     "metadata": {},
     "output_type": "display_data"
    }
   ],
   "source": [
    "G(sG, true)"
   ]
  }
 ],
 "metadata": {
  "hide_input": false,
  "kernelspec": {
   "display_name": "Matlab",
   "language": "matlab",
   "name": "matlab"
  },
  "language_info": {
   "codemirror_mode": "octave",
   "file_extension": ".m",
   "help_links": [
    {
     "text": "MetaKernel Magics",
     "url": "https://github.com/calysto/metakernel/blob/master/metakernel/magics/README.md"
    }
   ],
   "mimetype": "text/x-octave",
   "name": "matlab",
   "version": "0.16.1"
  }
 },
 "nbformat": 4,
 "nbformat_minor": 2
}
